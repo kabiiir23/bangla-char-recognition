{
  "nbformat": 4,
  "nbformat_minor": 0,
  "metadata": {
    "kernelspec": {
      "display_name": "Keras (tf2.0)",
      "language": "python",
      "name": "keras"
    },
    "language_info": {
      "codemirror_mode": {
        "name": "ipython",
        "version": 3
      },
      "file_extension": ".py",
      "mimetype": "text/x-python",
      "name": "python",
      "nbconvert_exporter": "python",
      "pygments_lexer": "ipython3",
      "version": "3.7.5"
    },
    "colab": {
      "name": "BanglaCharRecog.ipynb",
      "provenance": []
    }
  },
  "cells": [
    {
      "cell_type": "code",
      "metadata": {
        "id": "zz-Z7gAWj9OG"
      },
      "source": [
        "import pandas as pd\n",
        "import numpy as np"
      ],
      "execution_count": null,
      "outputs": []
    },
    {
      "cell_type": "markdown",
      "metadata": {
        "id": "9hKkOncVoXes"
      },
      "source": [
        "### Importing the dataset using pandas where ***data*** holds the features or images of the handwritten characters and ***label*** holds the associated bangla characters in unicode corresponding to the numeric representation.\n",
        "####*Replace the csv locations relative to your workspace*"
      ]
    },
    {
      "cell_type": "code",
      "metadata": {
        "id": "uvo7vna-j9OO"
      },
      "source": [
        "#data =  pd.read_csv('/content/drive/My Drive/Bangla letters/data.csv')\n",
        "data = pd.read_csv('/Volumes/HDD/Python/python3/Workspace/Bangla NN/Bangla letters/data.csv')\n",
        "label = pd.read_csv('/Volumes/HDD/Python/python3/Workspace/Bangla NN/Bangla letters/metaDataCSV.csv')"
      ],
      "execution_count": null,
      "outputs": []
    },
    {
      "cell_type": "code",
      "metadata": {
        "id": "_I7bsVYZj9OY"
      },
      "source": [
        "X = (data.drop([\"label\"], axis=1))/255.0\n",
        "y = data['label']"
      ],
      "execution_count": null,
      "outputs": []
    },
    {
      "cell_type": "code",
      "metadata": {
        "id": "jEl81LAbj9Od",
        "outputId": "3e36ce39-0b0b-4437-db9d-b6cd9a49c6a7"
      },
      "source": [
        "print(label['Char Name'][label['Label'] == y[0]])"
      ],
      "execution_count": null,
      "outputs": [
        {
          "output_type": "stream",
          "text": [
            "10     অ\n",
            "Name: Char Name, dtype: object\n"
          ],
          "name": "stdout"
        }
      ]
    },
    {
      "cell_type": "code",
      "metadata": {
        "scrolled": true,
        "id": "8HYLG128j9Oj",
        "outputId": "1972c005-0477-4654-be6e-ee7d1bfc82bb"
      },
      "source": [
        "from __future__ import print_function\n",
        "import pandas as pd\n",
        "import cv2\n",
        "import numpy as np\n",
        "import keras\n",
        "from keras.models import load_model\n",
        "from keras.models import Sequential\n",
        "from keras.layers import Dense, Dropout, Flatten\n",
        "from keras.layers import Conv2D, MaxPooling2D\n",
        "from keras import backend as K\n",
        "from sklearn.model_selection import train_test_split\n",
        "X_train, X_test, y_train, y_test = train_test_split(X, y,\n",
        "                                                    stratify=y, \n",
        "                                                    test_size=0.25)\n",
        "\n",
        "img_rows = img_cols = 28\n",
        "\n",
        "x_train = X_train.values.reshape(X_train.shape[0], img_rows, img_cols, 1)\n",
        "x_test = X_test.values.reshape(X_test.shape[0], img_rows, img_cols, 1)\n",
        "input_shape = (img_rows, img_cols, 1)\n",
        "\n",
        "num_classes = len(y_test.unique())\n",
        "\n",
        "num_classes = 60\n",
        "\n",
        "len(y_test.unique()),len(y_train.unique())\n",
        "\n",
        "y_train = keras.utils.to_categorical(y_train, num_classes)\n",
        "y_test = keras.utils.to_categorical(y_test, num_classes)"
      ],
      "execution_count": null,
      "outputs": [
        {
          "output_type": "stream",
          "text": [
            "Using TensorFlow backend.\n"
          ],
          "name": "stderr"
        }
      ]
    },
    {
      "cell_type": "markdown",
      "metadata": {
        "id": "N7MxiPiXqRLv"
      },
      "source": [
        "### Load the character recorgination model htat we trained earlier."
      ]
    },
    {
      "cell_type": "code",
      "metadata": {
        "id": "tNH3od3jj9Oo",
        "outputId": "d98427db-b26c-4cab-d8d0-e2a4d2d4c9ad"
      },
      "source": [
        "model = load_model(\"/Volumes/HDD/Python/python3/Workspace/Bangla NN/Bangla letters/banglachar.h5\")\n",
        "model.summary()\n",
        "score = model.evaluate(x_test, y_test, verbose=0)\n",
        "print('Test loss:', score[0])\n",
        "print('Test accuracy:', score[1])"
      ],
      "execution_count": null,
      "outputs": [
        {
          "output_type": "stream",
          "text": [
            "Model: \"sequential_1\"\n",
            "_________________________________________________________________\n",
            "Layer (type)                 Output Shape              Param #   \n",
            "=================================================================\n",
            "conv2d_1 (Conv2D)            (None, 26, 26, 32)        320       \n",
            "_________________________________________________________________\n",
            "conv2d_2 (Conv2D)            (None, 24, 24, 64)        18496     \n",
            "_________________________________________________________________\n",
            "max_pooling2d_1 (MaxPooling2 (None, 12, 12, 64)        0         \n",
            "_________________________________________________________________\n",
            "dropout_1 (Dropout)          (None, 12, 12, 64)        0         \n",
            "_________________________________________________________________\n",
            "flatten_1 (Flatten)          (None, 9216)              0         \n",
            "_________________________________________________________________\n",
            "dense_1 (Dense)              (None, 128)               1179776   \n",
            "_________________________________________________________________\n",
            "dropout_2 (Dropout)          (None, 128)               0         \n",
            "_________________________________________________________________\n",
            "dense_2 (Dense)              (None, 60)                7740      \n",
            "=================================================================\n",
            "Total params: 1,206,332\n",
            "Trainable params: 1,206,332\n",
            "Non-trainable params: 0\n",
            "_________________________________________________________________\n",
            "Test loss: 0.18749863242210202\n",
            "Test accuracy: 0.9643737077713013\n"
          ],
          "name": "stdout"
        }
      ]
    },
    {
      "cell_type": "code",
      "metadata": {
        "id": "Oxgzpb14j9Ou"
      },
      "source": [
        "def predict(image):\n",
        "    input = cv2.resize(image, (28 , 28)).reshape((28 , 28,1)).astype('float32') / 255\n",
        "    prediction = model.predict_classes(np.array([input]))\n",
        "    character = label['Char Name'][label['Label'] == prediction[0]].values[0]\n",
        "    return character"
      ],
      "execution_count": null,
      "outputs": []
    },
    {
      "cell_type": "markdown",
      "metadata": {
        "id": "CSI-X1g9r993"
      },
      "source": [
        "### Creates an openCV window that allows user to draw input."
      ]
    },
    {
      "cell_type": "code",
      "metadata": {
        "id": "gv66-Kooj9Oy",
        "outputId": "0ece52c8-a0f4-4d1e-ea6f-cf4bc8c60e9e"
      },
      "source": [
        "canvas = np.ones((600,600), dtype=\"uint8\") * 255\n",
        "\n",
        "canvas[100:500,100:500] = 0\n",
        "\n",
        "start_point = None\n",
        "end_point = None\n",
        "is_drawing = False\n",
        "\n",
        "def draw_line(img,start_at,end_at):\n",
        "    cv2.line(img,start_at,end_at,255,15)\n",
        "\n",
        "def on_mouse_events(event,x,y,flags,params):\n",
        "    global start_point\n",
        "    global end_point\n",
        "    global canvas\n",
        "    global is_drawing\n",
        "    if event == cv2.EVENT_LBUTTONDOWN:\n",
        "        if is_drawing:\n",
        "            start_point = (x,y)\n",
        "    elif event == cv2.EVENT_MOUSEMOVE:\n",
        "        if is_drawing:\n",
        "            end_point = (x,y)\n",
        "            draw_line(canvas,start_point,end_point)\n",
        "            start_point = end_point\n",
        "    elif event == cv2.EVENT_LBUTTONUP:\n",
        "        is_drawing = False\n",
        "\n",
        "\n",
        "cv2.namedWindow(\"Test Canvas\")\n",
        "cv2.setMouseCallback(\"Test Canvas\", on_mouse_events)\n",
        "\n",
        "\n",
        "while(True):\n",
        "    cv2.imshow(\"Test Canvas\", canvas)\n",
        "    key = cv2.waitKey(1) & 0xFF \n",
        "    if key == ord('q'):\n",
        "        break\n",
        "    elif key == ord('s'):\n",
        "        is_drawing = True\n",
        "    elif key == ord('c'):\n",
        "        canvas[100:500,100:500] = 0\n",
        "    elif key == ord('p'):\n",
        "        image = canvas[100:500,100:500]\n",
        "        result = predict(image)\n",
        "        print(\"PREDICTION : \",result)\n",
        "\n",
        "cv2.destroyAllWindows()\n",
        "\n",
        "input = cv2.resize(image,(28,28)).reshape((28,28,1)).astype(np.float32)"
      ],
      "execution_count": null,
      "outputs": [
        {
          "output_type": "stream",
          "text": [
            "PREDICTION :   ক\n",
            "PREDICTION :   ত\n",
            "PREDICTION :   ত\n",
            "PREDICTION :   ই\n",
            "PREDICTION :   ঈ\n",
            "PREDICTION :   ট\n",
            "PREDICTION :   ঢ\n",
            "PREDICTION :   ড\n",
            "PREDICTION :   ভ\n",
            "PREDICTION :   ই\n",
            "PREDICTION :   ই\n",
            "PREDICTION :   ড়\n",
            "PREDICTION :   য়\n",
            "PREDICTION :   য়\n",
            "PREDICTION :   ম\n",
            "PREDICTION :   ল\n",
            "PREDICTION :   ব\n",
            "PREDICTION :   গ\n",
            "PREDICTION :   র\n",
            "PREDICTION :   ল\n",
            "PREDICTION :   ল\n",
            "PREDICTION :   ল\n",
            "PREDICTION :   ল\n",
            "PREDICTION :   ল\n",
            "PREDICTION :   ল\n"
          ],
          "name": "stdout"
        }
      ]
    },
    {
      "cell_type": "code",
      "metadata": {
        "id": "IX4U5MDZj9O2"
      },
      "source": [
        "cv2.destroyAllWindows()"
      ],
      "execution_count": null,
      "outputs": []
    },
    {
      "cell_type": "code",
      "metadata": {
        "id": "Rko0m_2Gj9O6",
        "outputId": "69836b75-6f63-4a35-8bf1-82cc64db15a2"
      },
      "source": [
        "print(label['Char Name'][label['Label'] == 48].values[0])"
      ],
      "execution_count": null,
      "outputs": [
        {
          "output_type": "stream",
          "text": [
            " ল\n"
          ],
          "name": "stdout"
        }
      ]
    },
    {
      "cell_type": "code",
      "metadata": {
        "id": "2LjmG-9Uj9O_",
        "outputId": "430b2490-48d5-4e44-c62b-b8f877e9b969"
      },
      "source": [
        "data[data['label']== 45].shape"
      ],
      "execution_count": null,
      "outputs": [
        {
          "output_type": "execute_result",
          "data": {
            "text/plain": [
              "(1528, 785)"
            ]
          },
          "metadata": {
            "tags": []
          },
          "execution_count": 20
        }
      ]
    },
    {
      "cell_type": "code",
      "metadata": {
        "id": "h-PcRJB6j9PD"
      },
      "source": [
        ""
      ],
      "execution_count": null,
      "outputs": []
    }
  ]
}